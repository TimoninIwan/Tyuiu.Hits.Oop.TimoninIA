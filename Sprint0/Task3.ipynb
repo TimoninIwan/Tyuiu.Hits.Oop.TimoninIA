{
 "cells": [
  {
   "cell_type": "markdown",
   "metadata": {},
   "source": [
    "<h1 style=\"color:DodgerBlue\">Индивидальный проект</h1>"
   ]
  },
  {
   "cell_type": "markdown",
   "metadata": {},
   "source": [
    "<h2 style=\"color:DodgerBlue\">Название проекта:</h2>\n",
    "\n",
    "----\n",
    "\n",
    "### Вариант задания 24\n",
    "\n"
   ]
  },
  {
   "cell_type": "markdown",
   "metadata": {},
   "source": [
    "<h2 style=\"color:DodgerBlue\">Описание проекта:</h2>\n",
    "\n",
    "----\n",
    "\n",
    "[ваш текст]\n"
   ]
  },
  {
   "cell_type": "markdown",
   "metadata": {},
   "source": [
    "<h2 style=\"color:DodgerBlue\">Реализация:</h2>\n",
    "\n",
    "----"
   ]
  },
  {
   "cell_type": "code",
   "execution_count": 20,
   "metadata": {
    "dotnet_interactive": {
     "language": "csharp"
    },
    "polyglot_notebook": {
     "kernelName": "csharp"
    }
   },
   "outputs": [
    {
     "name": "stdout",
     "output_type": "stream",
     "text": [
      "[Уведомление] Проверьте вашу почту!\n",
      "Email отправлен на timalvik2017@mail.ru: Проверьте вашу почту!\n",
      "user: 1, Тип: Email, Текст: Проверьте вашу почту!, Email: timalvik2017@mail.ru\n",
      "[Уведомление] Ваш код: 7777\n",
      "SMS отправлено на +79504895766: Ваш код: 7777\n",
      "user: 2, Тип: SMS, Текст: Ваш код: 7777, Телефон: +79504895766\n",
      "Push на iOS: У вас новое уведомление!\n",
      "Уведомление отправлено.\n",
      "user: 3, Тип: Push, Текст: У вас новое уведомление!, Платформа: iOS\n"
     ]
    }
   ],
   "source": [
    "// Базовый класс Notification\n",
    "public class Notification\n",
    "{\n",
    "    public int NotificationId { get; set; }\n",
    "    public string MessageText { get; set; }\n",
    "    public string Type { get; set; }\n",
    "\n",
    "    public virtual void DisplayNotification()\n",
    "    {\n",
    "        Console.WriteLine($\"[Уведомление] {MessageText}\");\n",
    "    }\n",
    "\n",
    "    public virtual void SendNotification()\n",
    "    {\n",
    "        Console.WriteLine(\"Уведомление отправлено.\");\n",
    "    }\n",
    "\n",
    "    public virtual string GetNotificationDetails()\n",
    "    {\n",
    "        return $\"user: {NotificationId}, Тип: {Type}, Текст: {MessageText}\";\n",
    "    }\n",
    "}\n",
    "\n",
    "// EmailNotification\n",
    "public class EmailNotification : Notification\n",
    "{\n",
    "    public string EmailAddress { get; set; }\n",
    "\n",
    "    public override void SendNotification()\n",
    "    {\n",
    "        Console.WriteLine($\"Email отправлен на {EmailAddress}: {MessageText}\");\n",
    "    }\n",
    "\n",
    "    public override string GetNotificationDetails()\n",
    "    {\n",
    "        return base.GetNotificationDetails() + $\", Email: {EmailAddress}\";\n",
    "    }\n",
    "}\n",
    "\n",
    "// SMSNotification\n",
    "public class SMSNotification : Notification\n",
    "{\n",
    "    public string PhoneNumber { get; set; }\n",
    "\n",
    "    public override void SendNotification()\n",
    "    {\n",
    "        Console.WriteLine($\"SMS отправлено на {PhoneNumber}: {MessageText}\");\n",
    "    }\n",
    "\n",
    "    public override string GetNotificationDetails()\n",
    "    {\n",
    "        return base.GetNotificationDetails() + $\", Телефон: {PhoneNumber}\";\n",
    "    }\n",
    "}\n",
    "\n",
    "// PushNotification\n",
    "public class PushNotification : Notification\n",
    "{\n",
    "    public string Platform { get; set; }\n",
    "\n",
    "    public override void DisplayNotification()\n",
    "    {\n",
    "        Console.WriteLine($\"Push на {Platform}: {MessageText}\");\n",
    "    }\n",
    "\n",
    "    public override string GetNotificationDetails()\n",
    "    {\n",
    "        return base.GetNotificationDetails() + $\", Платформа: {Platform}\";\n",
    "    }\n",
    "}\n",
    "\n",
    "// Пример использования:\n",
    "var email = new EmailNotification\n",
    "{\n",
    "    NotificationId = 1,\n",
    "    MessageText = \"Проверьте вашу почту!\",\n",
    "    Type = \"Email\",\n",
    "    EmailAddress = \"timalvik2017@mail.ru\"\n",
    "};\n",
    "email.DisplayNotification();\n",
    "email.SendNotification();\n",
    "Console.WriteLine(email.GetNotificationDetails());\n",
    "\n",
    "var sms = new SMSNotification\n",
    "{\n",
    "    NotificationId = 2,\n",
    "    MessageText = \"Ваш код: 7777\",\n",
    "    Type = \"SMS\",\n",
    "    PhoneNumber = \"+79504895766\"\n",
    "};\n",
    "sms.DisplayNotification();\n",
    "sms.SendNotification();\n",
    "Console.WriteLine(sms.GetNotificationDetails());\n",
    "\n",
    "var push = new PushNotification\n",
    "{\n",
    "    NotificationId = 3,\n",
    "    MessageText = \"У вас новое уведомление!\",\n",
    "    Type = \"Push\",\n",
    "    Platform = \"iOS\"\n",
    "};\n",
    "push.DisplayNotification();\n",
    "push.SendNotification();\n",
    "Console.WriteLine(push.GetNotificationDetails());"
   ]
  }
 ],
 "metadata": {
  "kernelspec": {
   "display_name": ".NET (C#)",
   "language": "C#",
   "name": ".net-csharp"
  },
  "polyglot_notebook": {
   "kernelInfo": {
    "defaultKernelName": "csharp",
    "items": [
     {
      "aliases": [],
      "languageName": "csharp",
      "name": "csharp"
     }
    ]
   }
  }
 },
 "nbformat": 4,
 "nbformat_minor": 2
}
