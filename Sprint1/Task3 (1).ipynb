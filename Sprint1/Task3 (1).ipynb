{
 "cells": [
  {
   "cell_type": "markdown",
   "metadata": {},
   "source": [
    "<h1 style=\"color:DodgerBlue\">Индивидальный проект</h1>"
   ]
  },
  {
   "cell_type": "markdown",
   "metadata": {},
   "source": [
    "<h2 style=\"color:DodgerBlue\">Название проекта:</h2>\n",
    "\n",
    "----\n",
    "\n",
    "### Вариант задания \n"
   ]
  },
  {
   "cell_type": "markdown",
   "metadata": {},
   "source": [
    "<h2 style=\"color:DodgerBlue\">Описание проекта:</h2>\n",
    "\n",
    "----\n",
    "\n",
    "[ваш текст]\n",
    "\n",
    "#### Дополнительное задание\n",
    "Добавьте к сущестующим классам конструктора классов с использованием гетторов и сетторов и реализуйте взаимодействие объектов между собой"
   ]
  },
  {
   "cell_type": "markdown",
   "metadata": {},
   "source": [
    "<h2 style=\"color:DodgerBlue\">Реализация:</h2>\n",
    "\n",
    "----"
   ]
  },
  {
   "cell_type": "code",
   "execution_count": 7,
   "metadata": {
    "dotnet_interactive": {
     "language": "csharp"
    },
    "polyglot_notebook": {
     "kernelName": "csharp"
    }
   },
   "outputs": [
    {
     "name": "stdout",
     "output_type": "stream",
     "text": [
      "Отправленные уведомления:\n",
      "На почте timalvik2017@mail.ru новое уведомление.\n",
      "Вам пришло новое письмо\n",
      "SMS отправлено на номер: +79504895766.\n",
      "У вас новое SMS!\n",
      "Push отправлено на платформу: iOS.\n",
      "У вас новое уведомление!\n"
     ]
    }
   ],
   "source": [
    "class Notification\n",
    "{\n",
    "\n",
    "    private int notificationId;\n",
    "    private string messageText;\n",
    "    private string type;\n",
    "\n",
    "    public int NotificationId\n",
    "    {\n",
    "        get { return notificationId; }\n",
    "        set { notificationId = value; }\n",
    "    }\n",
    "\n",
    "    public string MessageText\n",
    "    {\n",
    "        get { return messageText; }\n",
    "        set { messageText = value; }\n",
    "    }\n",
    "\n",
    "    public string Type\n",
    "    {\n",
    "        get { return type; }\n",
    "        set { type = value; }\n",
    "    }\n",
    "\n",
    "    public Notification(int notificationId, string messageText, string type)\n",
    "    {\n",
    "        NotificationId = notificationId;\n",
    "        MessageText = messageText;\n",
    "        Type = type;\n",
    "    }\n",
    "\n",
    "    public virtual void DisplayNotification()\n",
    "    {\n",
    "        Console.WriteLine(messageText);\n",
    "    }\n",
    "\n",
    "    public virtual void SendNotification()\n",
    "    {\n",
    "        Console.WriteLine($\"Уведомление {notificationId} отправлено.\");\n",
    "    }\n",
    "\n",
    "    public virtual void GetNotificationDetails()\n",
    "    {\n",
    "        Console.WriteLine(\"Детали уведомления:\");\n",
    "        Console.WriteLine($\"ID: {NotificationId} | Тип: {Type} | Сообщение: {MessageText}\");\n",
    "    }\n",
    "\n",
    "    public static void SendAndDisplayNotificationGroup(Notification[] notifications)\n",
    "    {\n",
    "        Console.WriteLine(\"Отправленные уведомления:\");\n",
    "        foreach (var notification in notifications)\n",
    "        {\n",
    "            notification.SendNotification();\n",
    "            notification.DisplayNotification();\n",
    "        }\n",
    "    }\n",
    "}\n",
    "\n",
    "class EmailNotification : Notification\n",
    "{\n",
    "    private string emailAddress;\n",
    "    public string EmailAddress\n",
    "    {\n",
    "        get { return emailAddress; }\n",
    "        set { emailAddress = value; }\n",
    "    }\n",
    "\n",
    "    \n",
    "    public EmailNotification(string emailAdress, int notificationId, string messageText, string type) : base(notificationId, messageText, type)\n",
    "    {\n",
    "        EmailAddress = emailAdress;\n",
    "    }\n",
    "\n",
    "    public override void SendNotification()\n",
    "    {\n",
    "        Console.WriteLine($\"На почте {emailAddress} новое уведомление.\");\n",
    "    }\n",
    "}\n",
    "\n",
    "class SMSNotification : Notification\n",
    "{\n",
    "    private string phoneNumber;\n",
    "    public string PhoneNumber\n",
    "    {\n",
    "        get { return phoneNumber; }\n",
    "        set { phoneNumber = value; }\n",
    "    }\n",
    "\n",
    "    public SMSNotification(string phoneNumber, int notificationId, string messageText, string type) : base(notificationId, messageText, type)\n",
    "    {\n",
    "        PhoneNumber = phoneNumber;\n",
    "    }\n",
    "\n",
    "    public override void SendNotification()\n",
    "    {\n",
    "        Console.WriteLine($\"SMS отправлено на номер: {phoneNumber}.\");\n",
    "    }\n",
    "}\n",
    "\n",
    "class PushNotification : Notification\n",
    "{\n",
    "    private string platform;\n",
    "    public string Platform\n",
    "    {\n",
    "        get { return platform; }\n",
    "        set { platform = value; }\n",
    "    }\n",
    "\n",
    "    public PushNotification(string platform, int notificationId, string messageText, string type) : base(notificationId, messageText, type)\n",
    "    {\n",
    "        Platform = platform;\n",
    "    }\n",
    "\n",
    "    public override void SendNotification()\n",
    "    {\n",
    "        Console.WriteLine($\"Push отправлено на платформу: {Platform}.\");\n",
    "    }\n",
    "}\n",
    "\n",
    "EmailNotification emailNotification = new EmailNotification(\n",
    "    \"timalvik2017@mail.ru\", \n",
    "    1, \n",
    "    \"Вам пришло новое письмо\", \n",
    "    \"Входящие\"\n",
    ");\n",
    "\n",
    "SMSNotification smsNotification = new SMSNotification(\n",
    "    \"+79504895766\", \n",
    "    2, \n",
    "    \"У вас новое SMS!\", \n",
    "    \"Оповещение\"\n",
    ");\n",
    "\n",
    "PushNotification pushNotification = new PushNotification(\n",
    "    \"iOS\", \n",
    "    3, \n",
    "    \"У вас новое уведомление!\", \n",
    "    \"Оповещение\"\n",
    ");\n",
    "\n",
    "Notification.SendAndDisplayNotificationGroup([emailNotification, smsNotification, pushNotification]);"
   ]
  }
 ],
 "metadata": {
  "kernelspec": {
   "display_name": ".NET (C#)",
   "language": "C#",
   "name": ".net-csharp"
  },
  "polyglot_notebook": {
   "kernelInfo": {
    "defaultKernelName": "csharp",
    "items": [
     {
      "aliases": [],
      "languageName": "csharp",
      "name": "csharp"
     }
    ]
   }
  }
 },
 "nbformat": 4,
 "nbformat_minor": 2
}
